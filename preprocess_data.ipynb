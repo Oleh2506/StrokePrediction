{
 "cells": [
  {
   "cell_type": "markdown",
   "metadata": {
    "collapsed": true
   },
   "source": [
    "# Preprocess Data"
   ]
  },
  {
   "cell_type": "code",
   "execution_count": 1,
   "metadata": {},
   "outputs": [],
   "source": [
    "import pandas as pd\n",
    "import seaborn as sns\n",
    "import matplotlib.pyplot as plt"
   ]
  },
  {
   "cell_type": "code",
   "execution_count": 2,
   "metadata": {},
   "outputs": [],
   "source": [
    "df = pd.read_csv(\"resources/stroke-data.csv\")"
   ]
  },
  {
   "cell_type": "code",
   "execution_count": 3,
   "metadata": {},
   "outputs": [
    {
     "data": {
      "text/html": [
       "<div>\n",
       "<style scoped>\n",
       "    .dataframe tbody tr th:only-of-type {\n",
       "        vertical-align: middle;\n",
       "    }\n",
       "\n",
       "    .dataframe tbody tr th {\n",
       "        vertical-align: top;\n",
       "    }\n",
       "\n",
       "    .dataframe thead th {\n",
       "        text-align: right;\n",
       "    }\n",
       "</style>\n",
       "<table border=\"1\" class=\"dataframe\">\n",
       "  <thead>\n",
       "    <tr style=\"text-align: right;\">\n",
       "      <th></th>\n",
       "      <th>id</th>\n",
       "      <th>gender</th>\n",
       "      <th>age</th>\n",
       "      <th>hypertension</th>\n",
       "      <th>heart_disease</th>\n",
       "      <th>ever_married</th>\n",
       "      <th>work_type</th>\n",
       "      <th>Residence_type</th>\n",
       "      <th>avg_glucose_level</th>\n",
       "      <th>bmi</th>\n",
       "      <th>smoking_status</th>\n",
       "      <th>stroke</th>\n",
       "    </tr>\n",
       "  </thead>\n",
       "  <tbody>\n",
       "    <tr>\n",
       "      <th>0</th>\n",
       "      <td>9046</td>\n",
       "      <td>Male</td>\n",
       "      <td>67.0</td>\n",
       "      <td>0</td>\n",
       "      <td>1</td>\n",
       "      <td>Yes</td>\n",
       "      <td>Private</td>\n",
       "      <td>Urban</td>\n",
       "      <td>228.69</td>\n",
       "      <td>36.6</td>\n",
       "      <td>formerly smoked</td>\n",
       "      <td>1</td>\n",
       "    </tr>\n",
       "    <tr>\n",
       "      <th>1</th>\n",
       "      <td>51676</td>\n",
       "      <td>Female</td>\n",
       "      <td>61.0</td>\n",
       "      <td>0</td>\n",
       "      <td>0</td>\n",
       "      <td>Yes</td>\n",
       "      <td>Self-employed</td>\n",
       "      <td>Rural</td>\n",
       "      <td>202.21</td>\n",
       "      <td>NaN</td>\n",
       "      <td>never smoked</td>\n",
       "      <td>1</td>\n",
       "    </tr>\n",
       "    <tr>\n",
       "      <th>2</th>\n",
       "      <td>31112</td>\n",
       "      <td>Male</td>\n",
       "      <td>80.0</td>\n",
       "      <td>0</td>\n",
       "      <td>1</td>\n",
       "      <td>Yes</td>\n",
       "      <td>Private</td>\n",
       "      <td>Rural</td>\n",
       "      <td>105.92</td>\n",
       "      <td>32.5</td>\n",
       "      <td>never smoked</td>\n",
       "      <td>1</td>\n",
       "    </tr>\n",
       "    <tr>\n",
       "      <th>3</th>\n",
       "      <td>60182</td>\n",
       "      <td>Female</td>\n",
       "      <td>49.0</td>\n",
       "      <td>0</td>\n",
       "      <td>0</td>\n",
       "      <td>Yes</td>\n",
       "      <td>Private</td>\n",
       "      <td>Urban</td>\n",
       "      <td>171.23</td>\n",
       "      <td>34.4</td>\n",
       "      <td>smokes</td>\n",
       "      <td>1</td>\n",
       "    </tr>\n",
       "    <tr>\n",
       "      <th>4</th>\n",
       "      <td>1665</td>\n",
       "      <td>Female</td>\n",
       "      <td>79.0</td>\n",
       "      <td>1</td>\n",
       "      <td>0</td>\n",
       "      <td>Yes</td>\n",
       "      <td>Self-employed</td>\n",
       "      <td>Rural</td>\n",
       "      <td>174.12</td>\n",
       "      <td>24.0</td>\n",
       "      <td>never smoked</td>\n",
       "      <td>1</td>\n",
       "    </tr>\n",
       "  </tbody>\n",
       "</table>\n",
       "</div>"
      ],
      "text/plain": [
       "      id  gender   age  hypertension  heart_disease ever_married  \\\n",
       "0   9046    Male  67.0             0              1          Yes   \n",
       "1  51676  Female  61.0             0              0          Yes   \n",
       "2  31112    Male  80.0             0              1          Yes   \n",
       "3  60182  Female  49.0             0              0          Yes   \n",
       "4   1665  Female  79.0             1              0          Yes   \n",
       "\n",
       "       work_type Residence_type  avg_glucose_level   bmi   smoking_status  \\\n",
       "0        Private          Urban             228.69  36.6  formerly smoked   \n",
       "1  Self-employed          Rural             202.21   NaN     never smoked   \n",
       "2        Private          Rural             105.92  32.5     never smoked   \n",
       "3        Private          Urban             171.23  34.4           smokes   \n",
       "4  Self-employed          Rural             174.12  24.0     never smoked   \n",
       "\n",
       "   stroke  \n",
       "0       1  \n",
       "1       1  \n",
       "2       1  \n",
       "3       1  \n",
       "4       1  "
      ]
     },
     "execution_count": 3,
     "metadata": {},
     "output_type": "execute_result"
    }
   ],
   "source": [
    "df.head()"
   ]
  },
  {
   "cell_type": "code",
   "execution_count": 4,
   "metadata": {
    "scrolled": false
   },
   "outputs": [
    {
     "data": {
      "image/png": "[encoded data removed]",
      "text/plain": [
       "<Figure size 640x480 with 1 Axes>"
      ]
     },
     "metadata": {},
     "output_type": "display_data"
    }
   ],
   "source": [
    "plt.title('Missing Values',fontweight='bold')\n",
    "ax = sns.heatmap(df.isna().sum().to_frame(), annot=True, fmt='d', cmap='coolwarm', linewidths=0.5,cbar=False)\n",
    "ax.set_xlabel('Amount Missing')\n",
    "plt.show()"
   ]
  },
  {
   "cell_type": "markdown",
   "metadata": {},
   "source": [
    "### Fill missing values"
   ]
  },
  {
   "cell_type": "code",
   "execution_count": 5,
   "metadata": {},
   "outputs": [],
   "source": [
    "df['bmi'] = df['bmi'].fillna(df['bmi'].mean())"
   ]
  },
  {
   "cell_type": "code",
   "execution_count": 6,
   "metadata": {},
   "outputs": [
    {
     "data": {
      "text/plain": [
       "Text(0.5, 1.0, 'Stroke')"
      ]
     },
     "execution_count": 6,
     "metadata": {},
     "output_type": "execute_result"
    },
    {
     "data": {
      "image/png": "[encoded data removed]",
      "text/plain": [
       "<Figure size 640x480 with 1 Axes>"
      ]
     },
     "metadata": {},
     "output_type": "display_data"
    }
   ],
   "source": [
    "sns.countplot(data=df, x=\"stroke\")\n",
    "plt.title('Stroke')"
   ]
  },
  {
   "cell_type": "markdown",
   "metadata": {},
   "source": [
    "# Model preparation"
   ]
  },
  {
   "cell_type": "code",
   "execution_count": 7,
   "metadata": {},
   "outputs": [],
   "source": [
    "from sklearn.preprocessing import LabelEncoder\n",
    "\n",
    "df['gender'] = df['gender'].replace({'Male':0,'Female':1,'Other':-1})\n",
    "df['ever_married'] = df['ever_married'].replace({'No':0,'Yes':1})\n",
    "df['Residence_type'] = df['Residence_type'].replace({'Rural':0,'Urban':1})\n",
    "df['work_type'] = df['work_type'].replace({'Never_worked':-2,\n",
    "                                           'children':-1, \n",
    "                                           'Private':0,\n",
    "                                           'Self-employed':1,\n",
    "                                           'Govt_job':2})\n",
    "\n",
    "df['smoking_status'] = LabelEncoder().fit_transform(df['smoking_status'])"
   ]
  },
  {
   "cell_type": "markdown",
   "metadata": {},
   "source": [
    "## Split dataset"
   ]
  },
  {
   "cell_type": "code",
   "execution_count": 8,
   "metadata": {},
   "outputs": [],
   "source": [
    "from sklearn.model_selection import train_test_split\n",
    "\n",
    "X = df.drop(['stroke', 'id'], axis=1)\n",
    "y = df['stroke']"
   ]
  },
  {
   "cell_type": "markdown",
   "metadata": {},
   "source": [
    "## Balance dataset"
   ]
  },
  {
   "cell_type": "code",
   "execution_count": 9,
   "metadata": {},
   "outputs": [],
   "source": [
    "from imblearn.over_sampling import SMOTE"
   ]
  },
  {
   "cell_type": "code",
   "execution_count": 10,
   "metadata": {},
   "outputs": [],
   "source": [
    "oversampler = SMOTE(sampling_strategy = 1)\n",
    "\n",
    "X, y = oversampler.fit_resample(X,y)\n",
    "\n",
    "X_train_res, X_test, y_train_res, y_test = train_test_split(X, y, test_size=0.2, random_state=42, stratify=y)"
   ]
  },
  {
   "cell_type": "code",
   "execution_count": 11,
   "metadata": {
    "scrolled": true
   },
   "outputs": [
    {
     "data": {
      "text/plain": [
       "<Axes: xlabel='stroke', ylabel='count'>"
      ]
     },
     "execution_count": 11,
     "metadata": {},
     "output_type": "execute_result"
    },
    {
     "data": {
      "image/png": "[encoded data removed]",
      "text/plain": [
       "<Figure size 640x480 with 1 Axes>"
      ]
     },
     "metadata": {},
     "output_type": "display_data"
    }
   ],
   "source": [
    "sns.countplot(x=y_train_res)"
   ]
  },
  {
   "cell_type": "markdown",
   "metadata": {},
   "source": [
    "## Building Models"
   ]
  },
  {
   "cell_type": "markdown",
   "metadata": {},
   "source": [
    "### RandomForest"
   ]
  },
  {
   "cell_type": "code",
   "execution_count": 12,
   "metadata": {},
   "outputs": [],
   "source": [
    "import pickle\n",
    "from sklearn.pipeline import Pipeline\n",
    "from sklearn.preprocessing import StandardScaler, MinMaxScaler\n",
    "from sklearn.ensemble import RandomForestClassifier\n",
    "from sklearn.neighbors import KNeighborsClassifier\n",
    "\n",
    "from sklearn.model_selection import cross_val_score\n",
    "from sklearn.model_selection import RepeatedStratifiedKFold\n",
    "from sklearn.metrics import confusion_matrix\n",
    "\n",
    "\n",
    "\n",
    "rf_pipeline = Pipeline(steps = [\n",
    "                                ('KNN',KNeighborsClassifier())])\n",
    "\n",
    "\n",
    "# cv = RepeatedStratifiedKFold(n_splits=10, n_repeats=3, random_state=42)\n",
    "\n",
    "# rf_cv = cross_val_score(rf_pipeline,\n",
    "#                         X_train_res,\n",
    "#                         y_train_res,\n",
    "#                         cv=cv,\n",
    "#                         scoring='f1')"
   ]
  },
  {
   "cell_type": "code",
   "execution_count": 13,
   "metadata": {},
   "outputs": [],
   "source": [
    "rf_pipeline.fit(X_train_res, y_train_res)\n",
    "y_pred = rf_pipeline.predict(X_test)"
   ]
  },
  {
   "cell_type": "code",
   "execution_count": 14,
   "metadata": {},
   "outputs": [
    {
     "name": "stdout",
     "output_type": "stream",
     "text": [
      "              precision    recall  f1-score   support\n",
      "\n",
      "           0       0.98      0.82      0.89       973\n",
      "           1       0.85      0.99      0.91       972\n",
      "\n",
      "    accuracy                           0.90      1945\n",
      "   macro avg       0.91      0.90      0.90      1945\n",
      "weighted avg       0.91      0.90      0.90      1945\n",
      "\n"
     ]
    }
   ],
   "source": [
    "from sklearn.metrics import classification_report\n",
    "\n",
    "print(classification_report(y_test, y_pred))"
   ]
  },
  {
   "cell_type": "code",
   "execution_count": 15,
   "metadata": {},
   "outputs": [
    {
     "data": {
      "text/plain": [
       "0.9033419023136247"
      ]
     },
     "execution_count": 15,
     "metadata": {},
     "output_type": "execute_result"
    }
   ],
   "source": [
    "rf_pipeline.score(X_test, y_test)"
   ]
  },
  {
   "cell_type": "code",
   "execution_count": 16,
   "metadata": {},
   "outputs": [
    {
     "data": {
      "text/plain": [
       "<Axes: >"
      ]
     },
     "execution_count": 16,
     "metadata": {},
     "output_type": "execute_result"
    },
    {
     "data": {
      "image/png": "[encoded data removed]",
      "text/plain": [
       "<Figure size 640x480 with 2 Axes>"
      ]
     },
     "metadata": {},
     "output_type": "display_data"
    }
   ],
   "source": [
    "cm = confusion_matrix(y_test, y_pred)\n",
    "sns.heatmap(cm, annot=True, fmt='g', cmap='Blues', \n",
    "            xticklabels=['No stroke', 'Stroke'], yticklabels=['No stroke', 'Stroke'])"
   ]
  },
  {
   "cell_type": "markdown",
   "metadata": {},
   "source": [
    "# Building neural network"
   ]
  },
  {
   "cell_type": "code",
   "execution_count": 17,
   "metadata": {},
   "outputs": [],
   "source": [
    "from sklearn.preprocessing import MinMaxScaler"
   ]
  },
  {
   "cell_type": "code",
   "execution_count": 18,
   "metadata": {},
   "outputs": [],
   "source": [
    "scaler = MinMaxScaler()\n",
    "\n",
    "X_train_res = scaler.fit_transform(X_train_res)\n",
    "X_test = scaler.fit_transform(X_test)"
   ]
  },
  {
   "cell_type": "code",
   "execution_count": 19,
   "metadata": {},
   "outputs": [],
   "source": [
    "from keras.models import Sequential\n",
    "from keras.layers import Dense\n",
    "\n",
    "from keras.wrappers.scikit_learn import KerasClassifier\n",
    "from sklearn.model_selection import GridSearchCV\n",
    "from keras.models import load_model\n",
    "\n",
    "from sklearn.metrics import f1_score\n",
    "import numpy as np\n",
    "\n",
    "import warnings \n",
    "warnings.filterwarnings(\"ignore\", category=DeprecationWarning)"
   ]
  },
  {
   "cell_type": "code",
   "execution_count": 20,
   "metadata": {},
   "outputs": [],
   "source": [
    "def select_model(layers, activation):\n",
    "    model = Sequential()\n",
    "    model.add(Dense(layers[0], input_dim=X_train_res.shape[1], activation=activation))\n",
    "    for i, node in enumerate(layers[1:]):\n",
    "        model.add(Dense(node, activation=activation))\n",
    "    model.add(Dense(1, activation='sigmoid'))\n",
    "\n",
    "    model.compile(optimizer='adam', loss='binary_crossentropy', metrics=['accuracy'])\n",
    "    return model\n"
   ]
  },
  {
   "cell_type": "code",
   "execution_count": 21,
   "metadata": {},
   "outputs": [],
   "source": [
    "model = KerasClassifier(select_model, verbose=1)"
   ]
  },
  {
   "cell_type": "code",
   "execution_count": 22,
   "metadata": {},
   "outputs": [],
   "source": [
    "# layers = [[10], [30, 15], [30, 15, 5], [45, 30, 15, 5]]\n",
    "# activations = ['tanh','relu']\n",
    "\n",
    "# grid = GridSearchCV(estimator = model, param_grid = dict(layers = layers,\n",
    "#                                                      activation = activations, \n",
    "#                                                     batch_size = [64],\n",
    "#                                                     epochs=[30]))\n",
    "\n",
    "# grid_res = grid.fit(X_train_res, y_train_res)"
   ]
  },
  {
   "cell_type": "code",
   "execution_count": 23,
   "metadata": {},
   "outputs": [],
   "source": [
    "# [grid_res.best_score_, grid_res.best_params_]"
   ]
  },
  {
   "cell_type": "code",
   "execution_count": 24,
   "metadata": {},
   "outputs": [],
   "source": [
    "model = select_model([45, 30, 15, 5], 'tanh')"
   ]
  },
  {
   "cell_type": "code",
   "execution_count": 41,
   "metadata": {
    "scrolled": true
   },
   "outputs": [
    {
     "name": "stdout",
     "output_type": "stream",
     "text": [
      "Epoch 1/300\n",
      "122/122 - 1s - loss: 0.1149 - accuracy: 0.9578 - val_loss: 1.3750 - val_accuracy: 0.7707 - 1s/epoch - 9ms/step\n",
      "Epoch 2/300\n",
      "122/122 - 0s - loss: 0.1081 - accuracy: 0.9598 - val_loss: 1.3322 - val_accuracy: 0.7758 - 247ms/epoch - 2ms/step\n",
      "Epoch 3/300\n",
      "122/122 - 0s - loss: 0.1089 - accuracy: 0.9603 - val_loss: 1.3723 - val_accuracy: 0.7743 - 258ms/epoch - 2ms/step\n",
      "Epoch 4/300\n",
      "122/122 - 0s - loss: 0.1043 - accuracy: 0.9627 - val_loss: 1.4119 - val_accuracy: 0.7661 - 277ms/epoch - 2ms/step\n",
      "Epoch 5/300\n",
      "122/122 - 0s - loss: 0.1037 - accuracy: 0.9613 - val_loss: 1.4156 - val_accuracy: 0.7712 - 277ms/epoch - 2ms/step\n",
      "Epoch 6/300\n",
      "122/122 - 0s - loss: 0.1022 - accuracy: 0.9630 - val_loss: 1.3935 - val_accuracy: 0.7769 - 249ms/epoch - 2ms/step\n",
      "Epoch 7/300\n",
      "122/122 - 0s - loss: 0.1046 - accuracy: 0.9607 - val_loss: 1.4534 - val_accuracy: 0.7650 - 251ms/epoch - 2ms/step\n",
      "Epoch 8/300\n",
      "122/122 - 0s - loss: 0.1053 - accuracy: 0.9601 - val_loss: 1.4202 - val_accuracy: 0.7614 - 244ms/epoch - 2ms/step\n",
      "Epoch 9/300\n",
      "122/122 - 0s - loss: 0.1060 - accuracy: 0.9609 - val_loss: 1.4044 - val_accuracy: 0.7722 - 244ms/epoch - 2ms/step\n",
      "Epoch 10/300\n",
      "122/122 - 0s - loss: 0.1055 - accuracy: 0.9610 - val_loss: 1.4265 - val_accuracy: 0.7656 - 246ms/epoch - 2ms/step\n",
      "Epoch 11/300\n",
      "122/122 - 0s - loss: 0.1074 - accuracy: 0.9600 - val_loss: 1.4571 - val_accuracy: 0.7599 - 249ms/epoch - 2ms/step\n",
      "Epoch 12/300\n",
      "122/122 - 0s - loss: 0.1088 - accuracy: 0.9591 - val_loss: 1.4217 - val_accuracy: 0.7676 - 251ms/epoch - 2ms/step\n",
      "Epoch 13/300\n",
      "122/122 - 0s - loss: 0.1083 - accuracy: 0.9582 - val_loss: 1.4183 - val_accuracy: 0.7712 - 260ms/epoch - 2ms/step\n",
      "Epoch 14/300\n",
      "122/122 - 0s - loss: 0.1092 - accuracy: 0.9595 - val_loss: 1.4186 - val_accuracy: 0.7692 - 267ms/epoch - 2ms/step\n",
      "Epoch 15/300\n",
      "122/122 - 0s - loss: 0.1054 - accuracy: 0.9617 - val_loss: 1.4239 - val_accuracy: 0.7666 - 248ms/epoch - 2ms/step\n",
      "Epoch 16/300\n",
      "122/122 - 0s - loss: 0.1091 - accuracy: 0.9586 - val_loss: 1.3940 - val_accuracy: 0.7686 - 248ms/epoch - 2ms/step\n",
      "Epoch 17/300\n",
      "122/122 - 0s - loss: 0.1094 - accuracy: 0.9595 - val_loss: 1.4065 - val_accuracy: 0.7666 - 249ms/epoch - 2ms/step\n",
      "Epoch 18/300\n",
      "122/122 - 0s - loss: 0.1058 - accuracy: 0.9604 - val_loss: 1.4011 - val_accuracy: 0.7722 - 273ms/epoch - 2ms/step\n",
      "Epoch 19/300\n",
      "122/122 - 0s - loss: 0.1036 - accuracy: 0.9622 - val_loss: 1.4236 - val_accuracy: 0.7717 - 255ms/epoch - 2ms/step\n",
      "Epoch 20/300\n",
      "122/122 - 0s - loss: 0.1075 - accuracy: 0.9586 - val_loss: 1.4527 - val_accuracy: 0.7650 - 267ms/epoch - 2ms/step\n",
      "Epoch 21/300\n",
      "122/122 - 0s - loss: 0.1143 - accuracy: 0.9576 - val_loss: 1.3927 - val_accuracy: 0.7692 - 244ms/epoch - 2ms/step\n",
      "Epoch 22/300\n",
      "122/122 - 0s - loss: 0.1076 - accuracy: 0.9587 - val_loss: 1.4175 - val_accuracy: 0.7671 - 247ms/epoch - 2ms/step\n",
      "Epoch 23/300\n",
      "122/122 - 0s - loss: 0.1094 - accuracy: 0.9592 - val_loss: 1.4049 - val_accuracy: 0.7702 - 247ms/epoch - 2ms/step\n",
      "Epoch 24/300\n",
      "122/122 - 0s - loss: 0.1045 - accuracy: 0.9616 - val_loss: 1.4302 - val_accuracy: 0.7697 - 244ms/epoch - 2ms/step\n",
      "Epoch 25/300\n",
      "122/122 - 0s - loss: 0.1016 - accuracy: 0.9643 - val_loss: 1.4429 - val_accuracy: 0.7707 - 245ms/epoch - 2ms/step\n",
      "Epoch 26/300\n",
      "122/122 - 0s - loss: 0.1046 - accuracy: 0.9616 - val_loss: 1.4660 - val_accuracy: 0.7666 - 264ms/epoch - 2ms/step\n",
      "Epoch 27/300\n",
      "122/122 - 0s - loss: 0.1049 - accuracy: 0.9614 - val_loss: 1.4612 - val_accuracy: 0.7666 - 273ms/epoch - 2ms/step\n",
      "Epoch 28/300\n",
      "122/122 - 0s - loss: 0.1001 - accuracy: 0.9648 - val_loss: 1.4600 - val_accuracy: 0.7666 - 245ms/epoch - 2ms/step\n",
      "Epoch 29/300\n",
      "122/122 - 0s - loss: 0.1018 - accuracy: 0.9625 - val_loss: 1.4284 - val_accuracy: 0.7728 - 245ms/epoch - 2ms/step\n",
      "Epoch 30/300\n",
      "122/122 - 0s - loss: 0.1059 - accuracy: 0.9608 - val_loss: 1.4731 - val_accuracy: 0.7650 - 245ms/epoch - 2ms/step\n",
      "Epoch 31/300\n",
      "122/122 - 0s - loss: 0.1044 - accuracy: 0.9608 - val_loss: 1.4369 - val_accuracy: 0.7692 - 247ms/epoch - 2ms/step\n",
      "Epoch 32/300\n",
      "122/122 - 0s - loss: 0.1022 - accuracy: 0.9617 - val_loss: 1.4740 - val_accuracy: 0.7620 - 246ms/epoch - 2ms/step\n",
      "Epoch 33/300\n",
      "122/122 - 0s - loss: 0.1042 - accuracy: 0.9613 - val_loss: 1.4357 - val_accuracy: 0.7702 - 247ms/epoch - 2ms/step\n",
      "Epoch 34/300\n",
      "122/122 - 0s - loss: 0.1117 - accuracy: 0.9592 - val_loss: 1.5061 - val_accuracy: 0.7604 - 244ms/epoch - 2ms/step\n",
      "Epoch 35/300\n",
      "122/122 - 0s - loss: 0.1062 - accuracy: 0.9601 - val_loss: 1.4009 - val_accuracy: 0.7789 - 251ms/epoch - 2ms/step\n",
      "Epoch 36/300\n",
      "122/122 - 0s - loss: 0.1064 - accuracy: 0.9598 - val_loss: 1.3836 - val_accuracy: 0.7769 - 245ms/epoch - 2ms/step\n",
      "Epoch 37/300\n",
      "122/122 - 0s - loss: 0.1107 - accuracy: 0.9581 - val_loss: 1.3885 - val_accuracy: 0.7717 - 245ms/epoch - 2ms/step\n",
      "Epoch 38/300\n",
      "122/122 - 0s - loss: 0.1055 - accuracy: 0.9605 - val_loss: 1.4279 - val_accuracy: 0.7697 - 245ms/epoch - 2ms/step\n",
      "Epoch 39/300\n",
      "122/122 - 0s - loss: 0.1054 - accuracy: 0.9598 - val_loss: 1.4440 - val_accuracy: 0.7692 - 247ms/epoch - 2ms/step\n",
      "Epoch 40/300\n",
      "122/122 - 0s - loss: 0.1067 - accuracy: 0.9609 - val_loss: 1.4554 - val_accuracy: 0.7666 - 246ms/epoch - 2ms/step\n",
      "Epoch 41/300\n",
      "122/122 - 0s - loss: 0.1023 - accuracy: 0.9630 - val_loss: 1.4797 - val_accuracy: 0.7599 - 245ms/epoch - 2ms/step\n",
      "Epoch 42/300\n",
      "122/122 - 0s - loss: 0.1019 - accuracy: 0.9637 - val_loss: 1.4620 - val_accuracy: 0.7661 - 249ms/epoch - 2ms/step\n",
      "Epoch 43/300\n",
      "122/122 - 0s - loss: 0.1005 - accuracy: 0.9646 - val_loss: 1.4558 - val_accuracy: 0.7656 - 246ms/epoch - 2ms/step\n",
      "Epoch 44/300\n",
      "122/122 - 0s - loss: 0.1036 - accuracy: 0.9617 - val_loss: 1.4719 - val_accuracy: 0.7635 - 248ms/epoch - 2ms/step\n",
      "Epoch 45/300\n",
      "122/122 - 0s - loss: 0.1017 - accuracy: 0.9622 - val_loss: 1.4854 - val_accuracy: 0.7666 - 245ms/epoch - 2ms/step\n",
      "Epoch 46/300\n",
      "122/122 - 0s - loss: 0.1010 - accuracy: 0.9618 - val_loss: 1.4347 - val_accuracy: 0.7697 - 246ms/epoch - 2ms/step\n",
      "Epoch 47/300\n",
      "122/122 - 0s - loss: 0.0997 - accuracy: 0.9630 - val_loss: 1.4639 - val_accuracy: 0.7645 - 247ms/epoch - 2ms/step\n",
      "Epoch 48/300\n",
      "122/122 - 0s - loss: 0.1054 - accuracy: 0.9616 - val_loss: 1.4682 - val_accuracy: 0.7635 - 245ms/epoch - 2ms/step\n",
      "Epoch 49/300\n",
      "122/122 - 0s - loss: 0.1101 - accuracy: 0.9577 - val_loss: 1.4985 - val_accuracy: 0.7630 - 247ms/epoch - 2ms/step\n",
      "Epoch 50/300\n",
      "122/122 - 0s - loss: 0.1029 - accuracy: 0.9619 - val_loss: 1.4493 - val_accuracy: 0.7676 - 244ms/epoch - 2ms/step\n",
      "Epoch 51/300\n",
      "122/122 - 0s - loss: 0.1083 - accuracy: 0.9601 - val_loss: 1.4951 - val_accuracy: 0.7584 - 248ms/epoch - 2ms/step\n",
      "Epoch 52/300\n",
      "122/122 - 0s - loss: 0.0998 - accuracy: 0.9632 - val_loss: 1.4413 - val_accuracy: 0.7650 - 247ms/epoch - 2ms/step\n",
      "Epoch 53/300\n",
      "122/122 - 0s - loss: 0.1002 - accuracy: 0.9619 - val_loss: 1.4895 - val_accuracy: 0.7620 - 263ms/epoch - 2ms/step\n",
      "Epoch 54/300\n",
      "122/122 - 0s - loss: 0.1021 - accuracy: 0.9628 - val_loss: 1.5018 - val_accuracy: 0.7625 - 251ms/epoch - 2ms/step\n",
      "Epoch 55/300\n",
      "122/122 - 0s - loss: 0.1003 - accuracy: 0.9640 - val_loss: 1.4916 - val_accuracy: 0.7604 - 252ms/epoch - 2ms/step\n",
      "Epoch 56/300\n",
      "122/122 - 0s - loss: 0.0987 - accuracy: 0.9639 - val_loss: 1.5152 - val_accuracy: 0.7630 - 250ms/epoch - 2ms/step\n",
      "Epoch 57/300\n",
      "122/122 - 0s - loss: 0.1033 - accuracy: 0.9612 - val_loss: 1.5015 - val_accuracy: 0.7620 - 251ms/epoch - 2ms/step\n",
      "Epoch 58/300\n",
      "122/122 - 0s - loss: 0.1048 - accuracy: 0.9621 - val_loss: 1.5155 - val_accuracy: 0.7568 - 249ms/epoch - 2ms/step\n",
      "Epoch 59/300\n",
      "122/122 - 0s - loss: 0.1044 - accuracy: 0.9609 - val_loss: 1.5186 - val_accuracy: 0.7620 - 252ms/epoch - 2ms/step\n",
      "Epoch 60/300\n",
      "122/122 - 0s - loss: 0.1044 - accuracy: 0.9607 - val_loss: 1.5448 - val_accuracy: 0.7517 - 249ms/epoch - 2ms/step\n",
      "Epoch 61/300\n",
      "122/122 - 0s - loss: 0.1011 - accuracy: 0.9623 - val_loss: 1.5032 - val_accuracy: 0.7656 - 252ms/epoch - 2ms/step\n",
      "Epoch 62/300\n",
      "122/122 - 0s - loss: 0.1015 - accuracy: 0.9623 - val_loss: 1.5098 - val_accuracy: 0.7635 - 257ms/epoch - 2ms/step\n",
      "Epoch 63/300\n",
      "122/122 - 0s - loss: 0.1122 - accuracy: 0.9580 - val_loss: 1.4799 - val_accuracy: 0.7630 - 253ms/epoch - 2ms/step\n",
      "Epoch 64/300\n",
      "122/122 - 0s - loss: 0.1008 - accuracy: 0.9619 - val_loss: 1.5158 - val_accuracy: 0.7594 - 249ms/epoch - 2ms/step\n",
      "Epoch 65/300\n",
      "122/122 - 0s - loss: 0.1025 - accuracy: 0.9631 - val_loss: 1.5089 - val_accuracy: 0.7686 - 248ms/epoch - 2ms/step\n"
     ]
    },
    {
     "name": "stdout",
     "output_type": "stream",
     "text": [
      "Epoch 66/300\n",
      "122/122 - 0s - loss: 0.1014 - accuracy: 0.9623 - val_loss: 1.5054 - val_accuracy: 0.7661 - 252ms/epoch - 2ms/step\n",
      "Epoch 67/300\n",
      "122/122 - 0s - loss: 0.1093 - accuracy: 0.9594 - val_loss: 1.5078 - val_accuracy: 0.7584 - 261ms/epoch - 2ms/step\n",
      "Epoch 68/300\n",
      "122/122 - 0s - loss: 0.1024 - accuracy: 0.9625 - val_loss: 1.5100 - val_accuracy: 0.7630 - 265ms/epoch - 2ms/step\n",
      "Epoch 69/300\n",
      "122/122 - 0s - loss: 0.0987 - accuracy: 0.9623 - val_loss: 1.4924 - val_accuracy: 0.7650 - 248ms/epoch - 2ms/step\n",
      "Epoch 70/300\n",
      "122/122 - 0s - loss: 0.1003 - accuracy: 0.9632 - val_loss: 1.5249 - val_accuracy: 0.7573 - 250ms/epoch - 2ms/step\n",
      "Epoch 71/300\n",
      "122/122 - 0s - loss: 0.1009 - accuracy: 0.9618 - val_loss: 1.5073 - val_accuracy: 0.7568 - 250ms/epoch - 2ms/step\n",
      "Epoch 72/300\n",
      "122/122 - 0s - loss: 0.1040 - accuracy: 0.9601 - val_loss: 1.4811 - val_accuracy: 0.7645 - 254ms/epoch - 2ms/step\n",
      "Epoch 73/300\n",
      "122/122 - 0s - loss: 0.1071 - accuracy: 0.9587 - val_loss: 1.5646 - val_accuracy: 0.7640 - 250ms/epoch - 2ms/step\n",
      "Epoch 74/300\n",
      "122/122 - 0s - loss: 0.1043 - accuracy: 0.9619 - val_loss: 1.5206 - val_accuracy: 0.7604 - 250ms/epoch - 2ms/step\n",
      "Epoch 75/300\n",
      "122/122 - 0s - loss: 0.1027 - accuracy: 0.9618 - val_loss: 1.5558 - val_accuracy: 0.7630 - 257ms/epoch - 2ms/step\n",
      "Epoch 76/300\n",
      "122/122 - 0s - loss: 0.0980 - accuracy: 0.9637 - val_loss: 1.5027 - val_accuracy: 0.7656 - 251ms/epoch - 2ms/step\n",
      "Epoch 77/300\n",
      "122/122 - 0s - loss: 0.1017 - accuracy: 0.9618 - val_loss: 1.5001 - val_accuracy: 0.7707 - 249ms/epoch - 2ms/step\n",
      "Epoch 78/300\n",
      "122/122 - 0s - loss: 0.0988 - accuracy: 0.9634 - val_loss: 1.5170 - val_accuracy: 0.7645 - 254ms/epoch - 2ms/step\n",
      "Epoch 79/300\n",
      "122/122 - 0s - loss: 0.1035 - accuracy: 0.9598 - val_loss: 1.5485 - val_accuracy: 0.7589 - 252ms/epoch - 2ms/step\n",
      "Epoch 80/300\n",
      "122/122 - 0s - loss: 0.0967 - accuracy: 0.9644 - val_loss: 1.4882 - val_accuracy: 0.7640 - 251ms/epoch - 2ms/step\n",
      "Epoch 81/300\n",
      "122/122 - 0s - loss: 0.0987 - accuracy: 0.9635 - val_loss: 1.4710 - val_accuracy: 0.7702 - 253ms/epoch - 2ms/step\n",
      "Epoch 82/300\n",
      "122/122 - 0s - loss: 0.1013 - accuracy: 0.9617 - val_loss: 1.5271 - val_accuracy: 0.7599 - 250ms/epoch - 2ms/step\n",
      "Epoch 83/300\n",
      "122/122 - 0s - loss: 0.1003 - accuracy: 0.9631 - val_loss: 1.5680 - val_accuracy: 0.7553 - 251ms/epoch - 2ms/step\n",
      "Epoch 84/300\n",
      "122/122 - 0s - loss: 0.1051 - accuracy: 0.9610 - val_loss: 1.5228 - val_accuracy: 0.7635 - 249ms/epoch - 2ms/step\n",
      "Epoch 85/300\n",
      "122/122 - 0s - loss: 0.0988 - accuracy: 0.9640 - val_loss: 1.5044 - val_accuracy: 0.7594 - 248ms/epoch - 2ms/step\n",
      "Epoch 86/300\n",
      "122/122 - 0s - loss: 0.1020 - accuracy: 0.9622 - val_loss: 1.5219 - val_accuracy: 0.7578 - 252ms/epoch - 2ms/step\n",
      "Epoch 87/300\n",
      "122/122 - 0s - loss: 0.0998 - accuracy: 0.9617 - val_loss: 1.5409 - val_accuracy: 0.7620 - 250ms/epoch - 2ms/step\n",
      "Epoch 88/300\n",
      "122/122 - 0s - loss: 0.0997 - accuracy: 0.9636 - val_loss: 1.5747 - val_accuracy: 0.7630 - 247ms/epoch - 2ms/step\n",
      "Epoch 89/300\n",
      "122/122 - 0s - loss: 0.0969 - accuracy: 0.9655 - val_loss: 1.5870 - val_accuracy: 0.7532 - 248ms/epoch - 2ms/step\n",
      "Epoch 90/300\n",
      "122/122 - 0s - loss: 0.1012 - accuracy: 0.9603 - val_loss: 1.5395 - val_accuracy: 0.7625 - 250ms/epoch - 2ms/step\n",
      "Epoch 91/300\n",
      "122/122 - 0s - loss: 0.1053 - accuracy: 0.9619 - val_loss: 1.5356 - val_accuracy: 0.7614 - 251ms/epoch - 2ms/step\n",
      "Epoch 92/300\n",
      "122/122 - 0s - loss: 0.0989 - accuracy: 0.9637 - val_loss: 1.5366 - val_accuracy: 0.7625 - 250ms/epoch - 2ms/step\n",
      "Epoch 93/300\n",
      "122/122 - 0s - loss: 0.1026 - accuracy: 0.9626 - val_loss: 1.5188 - val_accuracy: 0.7692 - 248ms/epoch - 2ms/step\n",
      "Epoch 94/300\n",
      "122/122 - 0s - loss: 0.0990 - accuracy: 0.9639 - val_loss: 1.5267 - val_accuracy: 0.7604 - 263ms/epoch - 2ms/step\n",
      "Epoch 95/300\n",
      "122/122 - 0s - loss: 0.1035 - accuracy: 0.9603 - val_loss: 1.5778 - val_accuracy: 0.7548 - 251ms/epoch - 2ms/step\n",
      "Epoch 96/300\n",
      "122/122 - 0s - loss: 0.1018 - accuracy: 0.9614 - val_loss: 1.5623 - val_accuracy: 0.7609 - 253ms/epoch - 2ms/step\n",
      "Epoch 97/300\n",
      "122/122 - 0s - loss: 0.0964 - accuracy: 0.9646 - val_loss: 1.5638 - val_accuracy: 0.7558 - 249ms/epoch - 2ms/step\n",
      "Epoch 98/300\n",
      "122/122 - 0s - loss: 0.0957 - accuracy: 0.9645 - val_loss: 1.5358 - val_accuracy: 0.7692 - 251ms/epoch - 2ms/step\n",
      "Epoch 99/300\n",
      "122/122 - 0s - loss: 0.1040 - accuracy: 0.9607 - val_loss: 1.5402 - val_accuracy: 0.7589 - 249ms/epoch - 2ms/step\n",
      "Epoch 100/300\n",
      "122/122 - 0s - loss: 0.0971 - accuracy: 0.9636 - val_loss: 1.5694 - val_accuracy: 0.7625 - 254ms/epoch - 2ms/step\n",
      "Epoch 101/300\n",
      "122/122 - 0s - loss: 0.0963 - accuracy: 0.9637 - val_loss: 1.5284 - val_accuracy: 0.7604 - 258ms/epoch - 2ms/step\n",
      "Epoch 102/300\n",
      "122/122 - 0s - loss: 0.0989 - accuracy: 0.9635 - val_loss: 1.6025 - val_accuracy: 0.7537 - 254ms/epoch - 2ms/step\n",
      "Epoch 103/300\n",
      "122/122 - 0s - loss: 0.0971 - accuracy: 0.9645 - val_loss: 1.5512 - val_accuracy: 0.7614 - 250ms/epoch - 2ms/step\n",
      "Epoch 104/300\n",
      "122/122 - 0s - loss: 0.0986 - accuracy: 0.9631 - val_loss: 1.6107 - val_accuracy: 0.7506 - 252ms/epoch - 2ms/step\n",
      "Epoch 105/300\n",
      "122/122 - 0s - loss: 0.0978 - accuracy: 0.9648 - val_loss: 1.4865 - val_accuracy: 0.7640 - 249ms/epoch - 2ms/step\n",
      "Epoch 106/300\n",
      "122/122 - 0s - loss: 0.1024 - accuracy: 0.9621 - val_loss: 1.5099 - val_accuracy: 0.7645 - 253ms/epoch - 2ms/step\n",
      "Epoch 107/300\n",
      "122/122 - 0s - loss: 0.0974 - accuracy: 0.9648 - val_loss: 1.5351 - val_accuracy: 0.7594 - 254ms/epoch - 2ms/step\n",
      "Epoch 108/300\n",
      "122/122 - 0s - loss: 0.1058 - accuracy: 0.9596 - val_loss: 1.5311 - val_accuracy: 0.7568 - 308ms/epoch - 3ms/step\n",
      "Epoch 109/300\n",
      "122/122 - 0s - loss: 0.0973 - accuracy: 0.9646 - val_loss: 1.5298 - val_accuracy: 0.7635 - 256ms/epoch - 2ms/step\n",
      "Epoch 110/300\n",
      "122/122 - 0s - loss: 0.0982 - accuracy: 0.9639 - val_loss: 1.5583 - val_accuracy: 0.7604 - 250ms/epoch - 2ms/step\n",
      "Epoch 111/300\n",
      "122/122 - 0s - loss: 0.0953 - accuracy: 0.9653 - val_loss: 1.5754 - val_accuracy: 0.7578 - 254ms/epoch - 2ms/step\n",
      "Epoch 112/300\n",
      "122/122 - 0s - loss: 0.0969 - accuracy: 0.9639 - val_loss: 1.4960 - val_accuracy: 0.7676 - 251ms/epoch - 2ms/step\n",
      "Epoch 113/300\n",
      "122/122 - 0s - loss: 0.0982 - accuracy: 0.9632 - val_loss: 1.6239 - val_accuracy: 0.7496 - 251ms/epoch - 2ms/step\n",
      "Epoch 114/300\n",
      "122/122 - 0s - loss: 0.1006 - accuracy: 0.9631 - val_loss: 1.5557 - val_accuracy: 0.7630 - 252ms/epoch - 2ms/step\n",
      "Epoch 115/300\n",
      "122/122 - 0s - loss: 0.0938 - accuracy: 0.9664 - val_loss: 1.5459 - val_accuracy: 0.7640 - 261ms/epoch - 2ms/step\n",
      "Epoch 116/300\n",
      "122/122 - 0s - loss: 0.0958 - accuracy: 0.9646 - val_loss: 1.5580 - val_accuracy: 0.7625 - 249ms/epoch - 2ms/step\n",
      "Epoch 117/300\n",
      "122/122 - 0s - loss: 0.0992 - accuracy: 0.9630 - val_loss: 1.5497 - val_accuracy: 0.7584 - 250ms/epoch - 2ms/step\n",
      "Epoch 118/300\n",
      "122/122 - 0s - loss: 0.1012 - accuracy: 0.9641 - val_loss: 1.5740 - val_accuracy: 0.7594 - 251ms/epoch - 2ms/step\n",
      "Epoch 119/300\n",
      "122/122 - 0s - loss: 0.0980 - accuracy: 0.9648 - val_loss: 1.5436 - val_accuracy: 0.7625 - 252ms/epoch - 2ms/step\n",
      "Epoch 120/300\n",
      "122/122 - 0s - loss: 0.0956 - accuracy: 0.9650 - val_loss: 1.5735 - val_accuracy: 0.7578 - 251ms/epoch - 2ms/step\n",
      "Epoch 121/300\n",
      "122/122 - 0s - loss: 0.1028 - accuracy: 0.9609 - val_loss: 1.5707 - val_accuracy: 0.7645 - 253ms/epoch - 2ms/step\n",
      "Epoch 122/300\n",
      "122/122 - 0s - loss: 0.0975 - accuracy: 0.9635 - val_loss: 1.6092 - val_accuracy: 0.7553 - 251ms/epoch - 2ms/step\n",
      "Epoch 123/300\n",
      "122/122 - 0s - loss: 0.0976 - accuracy: 0.9644 - val_loss: 1.5807 - val_accuracy: 0.7681 - 248ms/epoch - 2ms/step\n",
      "Epoch 124/300\n",
      "122/122 - 0s - loss: 0.0990 - accuracy: 0.9625 - val_loss: 1.5796 - val_accuracy: 0.7599 - 251ms/epoch - 2ms/step\n",
      "Epoch 125/300\n",
      "122/122 - 0s - loss: 0.0954 - accuracy: 0.9641 - val_loss: 1.5818 - val_accuracy: 0.7599 - 251ms/epoch - 2ms/step\n",
      "Epoch 126/300\n",
      "122/122 - 0s - loss: 0.0955 - accuracy: 0.9644 - val_loss: 1.5853 - val_accuracy: 0.7614 - 249ms/epoch - 2ms/step\n",
      "Epoch 127/300\n",
      "122/122 - 0s - loss: 0.0983 - accuracy: 0.9627 - val_loss: 1.5931 - val_accuracy: 0.7594 - 250ms/epoch - 2ms/step\n",
      "Epoch 128/300\n",
      "122/122 - 0s - loss: 0.0979 - accuracy: 0.9636 - val_loss: 1.5661 - val_accuracy: 0.7584 - 250ms/epoch - 2ms/step\n",
      "Epoch 129/300\n",
      "122/122 - 0s - loss: 0.0991 - accuracy: 0.9628 - val_loss: 1.5626 - val_accuracy: 0.7640 - 252ms/epoch - 2ms/step\n",
      "Epoch 130/300\n",
      "122/122 - 0s - loss: 0.1015 - accuracy: 0.9630 - val_loss: 1.6814 - val_accuracy: 0.7486 - 250ms/epoch - 2ms/step\n"
     ]
    },
    {
     "name": "stdout",
     "output_type": "stream",
     "text": [
      "Epoch 131/300\n",
      "122/122 - 0s - loss: 0.0973 - accuracy: 0.9644 - val_loss: 1.5601 - val_accuracy: 0.7614 - 251ms/epoch - 2ms/step\n",
      "Epoch 132/300\n",
      "122/122 - 0s - loss: 0.0985 - accuracy: 0.9641 - val_loss: 1.5771 - val_accuracy: 0.7625 - 250ms/epoch - 2ms/step\n",
      "Epoch 133/300\n",
      "122/122 - 0s - loss: 0.0941 - accuracy: 0.9657 - val_loss: 1.6082 - val_accuracy: 0.7563 - 251ms/epoch - 2ms/step\n",
      "Epoch 134/300\n",
      "122/122 - 0s - loss: 0.0981 - accuracy: 0.9635 - val_loss: 1.5823 - val_accuracy: 0.7630 - 249ms/epoch - 2ms/step\n",
      "Epoch 135/300\n",
      "122/122 - 0s - loss: 0.0934 - accuracy: 0.9659 - val_loss: 1.5957 - val_accuracy: 0.7548 - 249ms/epoch - 2ms/step\n",
      "Epoch 136/300\n",
      "122/122 - 0s - loss: 0.0919 - accuracy: 0.9661 - val_loss: 1.5854 - val_accuracy: 0.7599 - 253ms/epoch - 2ms/step\n",
      "Epoch 137/300\n",
      "122/122 - 0s - loss: 0.0973 - accuracy: 0.9652 - val_loss: 1.5915 - val_accuracy: 0.7568 - 251ms/epoch - 2ms/step\n",
      "Epoch 138/300\n",
      "122/122 - 0s - loss: 0.0963 - accuracy: 0.9641 - val_loss: 1.5798 - val_accuracy: 0.7584 - 249ms/epoch - 2ms/step\n",
      "Epoch 139/300\n",
      "122/122 - 0s - loss: 0.0990 - accuracy: 0.9643 - val_loss: 1.5965 - val_accuracy: 0.7635 - 252ms/epoch - 2ms/step\n",
      "Epoch 140/300\n",
      "122/122 - 0s - loss: 0.1009 - accuracy: 0.9628 - val_loss: 1.5988 - val_accuracy: 0.7542 - 251ms/epoch - 2ms/step\n",
      "Epoch 141/300\n",
      "122/122 - 0s - loss: 0.0966 - accuracy: 0.9643 - val_loss: 1.6266 - val_accuracy: 0.7553 - 249ms/epoch - 2ms/step\n",
      "Epoch 142/300\n",
      "122/122 - 0s - loss: 0.0969 - accuracy: 0.9655 - val_loss: 1.6451 - val_accuracy: 0.7522 - 250ms/epoch - 2ms/step\n",
      "Epoch 143/300\n",
      "122/122 - 0s - loss: 0.1059 - accuracy: 0.9621 - val_loss: 1.5920 - val_accuracy: 0.7558 - 247ms/epoch - 2ms/step\n",
      "Epoch 144/300\n",
      "122/122 - 0s - loss: 0.0947 - accuracy: 0.9662 - val_loss: 1.5514 - val_accuracy: 0.7645 - 251ms/epoch - 2ms/step\n",
      "Epoch 145/300\n",
      "122/122 - 0s - loss: 0.0945 - accuracy: 0.9649 - val_loss: 1.5927 - val_accuracy: 0.7563 - 250ms/epoch - 2ms/step\n",
      "Epoch 146/300\n",
      "122/122 - 0s - loss: 0.0982 - accuracy: 0.9643 - val_loss: 1.6524 - val_accuracy: 0.7661 - 249ms/epoch - 2ms/step\n",
      "Epoch 147/300\n",
      "122/122 - 0s - loss: 0.0998 - accuracy: 0.9627 - val_loss: 1.6187 - val_accuracy: 0.7594 - 253ms/epoch - 2ms/step\n",
      "Epoch 148/300\n",
      "122/122 - 0s - loss: 0.0961 - accuracy: 0.9646 - val_loss: 1.7183 - val_accuracy: 0.7532 - 268ms/epoch - 2ms/step\n",
      "Epoch 149/300\n",
      "122/122 - 0s - loss: 0.0963 - accuracy: 0.9632 - val_loss: 1.6188 - val_accuracy: 0.7609 - 286ms/epoch - 2ms/step\n",
      "Epoch 150/300\n",
      "122/122 - 0s - loss: 0.0977 - accuracy: 0.9643 - val_loss: 1.6271 - val_accuracy: 0.7604 - 252ms/epoch - 2ms/step\n",
      "Epoch 151/300\n",
      "122/122 - 0s - loss: 0.0992 - accuracy: 0.9632 - val_loss: 1.5911 - val_accuracy: 0.7594 - 249ms/epoch - 2ms/step\n",
      "Epoch 152/300\n",
      "122/122 - 0s - loss: 0.0941 - accuracy: 0.9646 - val_loss: 1.6421 - val_accuracy: 0.7645 - 251ms/epoch - 2ms/step\n",
      "Epoch 153/300\n",
      "122/122 - 0s - loss: 0.0963 - accuracy: 0.9654 - val_loss: 1.6315 - val_accuracy: 0.7604 - 250ms/epoch - 2ms/step\n",
      "Epoch 154/300\n",
      "122/122 - 0s - loss: 0.0919 - accuracy: 0.9667 - val_loss: 1.6314 - val_accuracy: 0.7599 - 256ms/epoch - 2ms/step\n",
      "Epoch 155/300\n",
      "122/122 - 0s - loss: 0.0934 - accuracy: 0.9659 - val_loss: 1.5896 - val_accuracy: 0.7599 - 251ms/epoch - 2ms/step\n",
      "Epoch 156/300\n",
      "122/122 - 0s - loss: 0.0932 - accuracy: 0.9650 - val_loss: 1.6180 - val_accuracy: 0.7548 - 254ms/epoch - 2ms/step\n",
      "Epoch 157/300\n",
      "122/122 - 0s - loss: 0.0927 - accuracy: 0.9649 - val_loss: 1.6135 - val_accuracy: 0.7666 - 264ms/epoch - 2ms/step\n",
      "Epoch 158/300\n",
      "122/122 - 0s - loss: 0.0974 - accuracy: 0.9641 - val_loss: 1.6450 - val_accuracy: 0.7594 - 251ms/epoch - 2ms/step\n",
      "Epoch 159/300\n",
      "122/122 - 0s - loss: 0.0907 - accuracy: 0.9668 - val_loss: 1.6347 - val_accuracy: 0.7625 - 250ms/epoch - 2ms/step\n",
      "Epoch 160/300\n",
      "122/122 - 0s - loss: 0.0948 - accuracy: 0.9646 - val_loss: 1.6135 - val_accuracy: 0.7620 - 256ms/epoch - 2ms/step\n",
      "Epoch 161/300\n",
      "122/122 - 0s - loss: 0.0961 - accuracy: 0.9649 - val_loss: 1.6278 - val_accuracy: 0.7599 - 249ms/epoch - 2ms/step\n",
      "Epoch 162/300\n",
      "122/122 - 0s - loss: 0.0947 - accuracy: 0.9634 - val_loss: 1.6276 - val_accuracy: 0.7620 - 250ms/epoch - 2ms/step\n",
      "Epoch 163/300\n",
      "122/122 - 0s - loss: 0.0925 - accuracy: 0.9661 - val_loss: 1.6058 - val_accuracy: 0.7599 - 249ms/epoch - 2ms/step\n",
      "Epoch 164/300\n",
      "122/122 - 0s - loss: 0.1074 - accuracy: 0.9601 - val_loss: 1.6076 - val_accuracy: 0.7625 - 253ms/epoch - 2ms/step\n",
      "Epoch 165/300\n",
      "122/122 - 0s - loss: 0.1000 - accuracy: 0.9607 - val_loss: 1.6145 - val_accuracy: 0.7640 - 256ms/epoch - 2ms/step\n",
      "Epoch 166/300\n",
      "122/122 - 0s - loss: 0.0949 - accuracy: 0.9649 - val_loss: 1.6432 - val_accuracy: 0.7548 - 248ms/epoch - 2ms/step\n",
      "Epoch 167/300\n",
      "122/122 - 0s - loss: 0.0936 - accuracy: 0.9652 - val_loss: 1.6140 - val_accuracy: 0.7584 - 248ms/epoch - 2ms/step\n",
      "Epoch 168/300\n",
      "122/122 - 0s - loss: 0.1012 - accuracy: 0.9623 - val_loss: 1.6545 - val_accuracy: 0.7599 - 251ms/epoch - 2ms/step\n",
      "Epoch 169/300\n",
      "122/122 - 0s - loss: 0.0941 - accuracy: 0.9636 - val_loss: 1.6225 - val_accuracy: 0.7604 - 250ms/epoch - 2ms/step\n",
      "Epoch 170/300\n",
      "122/122 - 0s - loss: 0.0922 - accuracy: 0.9659 - val_loss: 1.6203 - val_accuracy: 0.7614 - 255ms/epoch - 2ms/step\n",
      "Epoch 171/300\n",
      "122/122 - 0s - loss: 0.0927 - accuracy: 0.9654 - val_loss: 1.6744 - val_accuracy: 0.7568 - 253ms/epoch - 2ms/step\n",
      "Epoch 172/300\n",
      "122/122 - 0s - loss: 0.0968 - accuracy: 0.9658 - val_loss: 1.6516 - val_accuracy: 0.7563 - 250ms/epoch - 2ms/step\n",
      "Epoch 173/300\n",
      "122/122 - 0s - loss: 0.0950 - accuracy: 0.9645 - val_loss: 1.6929 - val_accuracy: 0.7578 - 256ms/epoch - 2ms/step\n",
      "Epoch 174/300\n",
      "122/122 - 0s - loss: 0.1009 - accuracy: 0.9636 - val_loss: 1.6398 - val_accuracy: 0.7620 - 249ms/epoch - 2ms/step\n",
      "Epoch 175/300\n",
      "122/122 - 0s - loss: 0.0918 - accuracy: 0.9657 - val_loss: 1.6617 - val_accuracy: 0.7614 - 249ms/epoch - 2ms/step\n",
      "Epoch 176/300\n",
      "122/122 - 0s - loss: 0.0963 - accuracy: 0.9640 - val_loss: 1.6155 - val_accuracy: 0.7578 - 250ms/epoch - 2ms/step\n",
      "Epoch 177/300\n",
      "122/122 - 0s - loss: 0.0965 - accuracy: 0.9645 - val_loss: 1.6625 - val_accuracy: 0.7589 - 249ms/epoch - 2ms/step\n",
      "Epoch 178/300\n",
      "122/122 - 0s - loss: 0.1016 - accuracy: 0.9636 - val_loss: 1.6295 - val_accuracy: 0.7563 - 249ms/epoch - 2ms/step\n",
      "Epoch 179/300\n",
      "122/122 - 0s - loss: 0.0939 - accuracy: 0.9653 - val_loss: 1.6278 - val_accuracy: 0.7599 - 249ms/epoch - 2ms/step\n",
      "Epoch 180/300\n",
      "122/122 - 0s - loss: 0.0937 - accuracy: 0.9658 - val_loss: 1.7067 - val_accuracy: 0.7542 - 253ms/epoch - 2ms/step\n",
      "Epoch 181/300\n",
      "122/122 - 0s - loss: 0.0906 - accuracy: 0.9680 - val_loss: 1.6616 - val_accuracy: 0.7527 - 249ms/epoch - 2ms/step\n",
      "Epoch 182/300\n",
      "122/122 - 0s - loss: 0.0957 - accuracy: 0.9645 - val_loss: 1.6560 - val_accuracy: 0.7650 - 250ms/epoch - 2ms/step\n",
      "Epoch 183/300\n",
      "122/122 - 0s - loss: 0.0968 - accuracy: 0.9626 - val_loss: 1.6113 - val_accuracy: 0.7645 - 248ms/epoch - 2ms/step\n",
      "Epoch 184/300\n",
      "122/122 - 0s - loss: 0.1022 - accuracy: 0.9614 - val_loss: 1.6055 - val_accuracy: 0.7635 - 253ms/epoch - 2ms/step\n",
      "Epoch 185/300\n",
      "122/122 - 0s - loss: 0.0952 - accuracy: 0.9655 - val_loss: 1.6652 - val_accuracy: 0.7594 - 259ms/epoch - 2ms/step\n",
      "Epoch 186/300\n",
      "122/122 - 0s - loss: 0.0952 - accuracy: 0.9643 - val_loss: 1.6271 - val_accuracy: 0.7594 - 250ms/epoch - 2ms/step\n",
      "Epoch 187/300\n",
      "122/122 - 0s - loss: 0.0899 - accuracy: 0.9673 - val_loss: 1.6860 - val_accuracy: 0.7568 - 248ms/epoch - 2ms/step\n",
      "Epoch 188/300\n",
      "122/122 - 0s - loss: 0.0918 - accuracy: 0.9666 - val_loss: 1.6878 - val_accuracy: 0.7589 - 251ms/epoch - 2ms/step\n",
      "Epoch 189/300\n",
      "122/122 - 0s - loss: 0.0943 - accuracy: 0.9644 - val_loss: 1.6717 - val_accuracy: 0.7522 - 252ms/epoch - 2ms/step\n",
      "Epoch 190/300\n",
      "122/122 - 0s - loss: 0.0911 - accuracy: 0.9663 - val_loss: 1.6611 - val_accuracy: 0.7578 - 256ms/epoch - 2ms/step\n",
      "Epoch 191/300\n",
      "122/122 - 0s - loss: 0.0966 - accuracy: 0.9645 - val_loss: 1.6697 - val_accuracy: 0.7532 - 251ms/epoch - 2ms/step\n",
      "Epoch 192/300\n",
      "122/122 - 0s - loss: 0.0964 - accuracy: 0.9637 - val_loss: 1.6899 - val_accuracy: 0.7609 - 253ms/epoch - 2ms/step\n",
      "Epoch 193/300\n",
      "122/122 - 0s - loss: 0.0934 - accuracy: 0.9670 - val_loss: 1.7192 - val_accuracy: 0.7532 - 250ms/epoch - 2ms/step\n",
      "Epoch 194/300\n",
      "122/122 - 0s - loss: 0.0914 - accuracy: 0.9663 - val_loss: 1.6919 - val_accuracy: 0.7553 - 254ms/epoch - 2ms/step\n",
      "Epoch 195/300\n"
     ]
    },
    {
     "name": "stdout",
     "output_type": "stream",
     "text": [
      "122/122 - 0s - loss: 0.0894 - accuracy: 0.9670 - val_loss: 1.7047 - val_accuracy: 0.7563 - 249ms/epoch - 2ms/step\n",
      "Epoch 196/300\n",
      "122/122 - 0s - loss: 0.0934 - accuracy: 0.9640 - val_loss: 1.6832 - val_accuracy: 0.7599 - 252ms/epoch - 2ms/step\n",
      "Epoch 197/300\n",
      "122/122 - 0s - loss: 0.0936 - accuracy: 0.9662 - val_loss: 1.6887 - val_accuracy: 0.7506 - 251ms/epoch - 2ms/step\n",
      "Epoch 198/300\n",
      "122/122 - 0s - loss: 0.0959 - accuracy: 0.9640 - val_loss: 1.7085 - val_accuracy: 0.7578 - 252ms/epoch - 2ms/step\n",
      "Epoch 199/300\n",
      "122/122 - 0s - loss: 0.0913 - accuracy: 0.9668 - val_loss: 1.6662 - val_accuracy: 0.7604 - 249ms/epoch - 2ms/step\n",
      "Epoch 200/300\n",
      "122/122 - 0s - loss: 0.0924 - accuracy: 0.9664 - val_loss: 1.7365 - val_accuracy: 0.7558 - 254ms/epoch - 2ms/step\n",
      "Epoch 201/300\n",
      "122/122 - 0s - loss: 0.0947 - accuracy: 0.9661 - val_loss: 1.7016 - val_accuracy: 0.7537 - 253ms/epoch - 2ms/step\n",
      "Epoch 202/300\n",
      "122/122 - 0s - loss: 0.0953 - accuracy: 0.9646 - val_loss: 1.6483 - val_accuracy: 0.7532 - 252ms/epoch - 2ms/step\n",
      "Epoch 203/300\n",
      "122/122 - 0s - loss: 0.0901 - accuracy: 0.9682 - val_loss: 1.5971 - val_accuracy: 0.7609 - 252ms/epoch - 2ms/step\n",
      "Epoch 204/300\n",
      "122/122 - 0s - loss: 0.0938 - accuracy: 0.9663 - val_loss: 1.6588 - val_accuracy: 0.7589 - 254ms/epoch - 2ms/step\n",
      "Epoch 205/300\n",
      "122/122 - 0s - loss: 0.0995 - accuracy: 0.9623 - val_loss: 1.7144 - val_accuracy: 0.7568 - 250ms/epoch - 2ms/step\n",
      "Epoch 206/300\n",
      "122/122 - 0s - loss: 0.0898 - accuracy: 0.9682 - val_loss: 1.6797 - val_accuracy: 0.7578 - 251ms/epoch - 2ms/step\n",
      "Epoch 207/300\n",
      "122/122 - 0s - loss: 0.0951 - accuracy: 0.9649 - val_loss: 1.6295 - val_accuracy: 0.7640 - 262ms/epoch - 2ms/step\n",
      "Epoch 208/300\n",
      "122/122 - 0s - loss: 0.0922 - accuracy: 0.9653 - val_loss: 1.7102 - val_accuracy: 0.7573 - 263ms/epoch - 2ms/step\n",
      "Epoch 209/300\n",
      "122/122 - 0s - loss: 0.0956 - accuracy: 0.9649 - val_loss: 1.6696 - val_accuracy: 0.7599 - 250ms/epoch - 2ms/step\n",
      "Epoch 210/300\n",
      "122/122 - 0s - loss: 0.1013 - accuracy: 0.9618 - val_loss: 1.6689 - val_accuracy: 0.7584 - 252ms/epoch - 2ms/step\n",
      "Epoch 211/300\n",
      "122/122 - 0s - loss: 0.0908 - accuracy: 0.9671 - val_loss: 1.6650 - val_accuracy: 0.7548 - 249ms/epoch - 2ms/step\n",
      "Epoch 212/300\n",
      "122/122 - 0s - loss: 0.0900 - accuracy: 0.9666 - val_loss: 1.6201 - val_accuracy: 0.7599 - 257ms/epoch - 2ms/step\n",
      "Epoch 213/300\n",
      "122/122 - 0s - loss: 0.0974 - accuracy: 0.9632 - val_loss: 1.6554 - val_accuracy: 0.7604 - 251ms/epoch - 2ms/step\n",
      "Epoch 214/300\n",
      "122/122 - 0s - loss: 0.0926 - accuracy: 0.9658 - val_loss: 1.6637 - val_accuracy: 0.7578 - 249ms/epoch - 2ms/step\n",
      "Epoch 215/300\n",
      "122/122 - 0s - loss: 0.0890 - accuracy: 0.9673 - val_loss: 1.6620 - val_accuracy: 0.7666 - 250ms/epoch - 2ms/step\n",
      "Epoch 216/300\n",
      "122/122 - 0s - loss: 0.0921 - accuracy: 0.9652 - val_loss: 1.7184 - val_accuracy: 0.7542 - 253ms/epoch - 2ms/step\n",
      "Epoch 217/300\n",
      "122/122 - 0s - loss: 0.0901 - accuracy: 0.9662 - val_loss: 1.7453 - val_accuracy: 0.7604 - 251ms/epoch - 2ms/step\n",
      "Epoch 218/300\n",
      "122/122 - 0s - loss: 0.0894 - accuracy: 0.9659 - val_loss: 1.6804 - val_accuracy: 0.7635 - 286ms/epoch - 2ms/step\n",
      "Epoch 219/300\n",
      "122/122 - 0s - loss: 0.0882 - accuracy: 0.9679 - val_loss: 1.6523 - val_accuracy: 0.7630 - 258ms/epoch - 2ms/step\n",
      "Epoch 220/300\n",
      "122/122 - 0s - loss: 0.0902 - accuracy: 0.9680 - val_loss: 1.7792 - val_accuracy: 0.7568 - 251ms/epoch - 2ms/step\n",
      "Epoch 221/300\n",
      "122/122 - 0s - loss: 0.1006 - accuracy: 0.9645 - val_loss: 1.6568 - val_accuracy: 0.7630 - 250ms/epoch - 2ms/step\n",
      "Epoch 222/300\n",
      "122/122 - 0s - loss: 0.0898 - accuracy: 0.9680 - val_loss: 1.6882 - val_accuracy: 0.7573 - 252ms/epoch - 2ms/step\n",
      "Epoch 223/300\n",
      "122/122 - 0s - loss: 0.0940 - accuracy: 0.9662 - val_loss: 1.6110 - val_accuracy: 0.7656 - 251ms/epoch - 2ms/step\n",
      "Epoch 224/300\n",
      "122/122 - 0s - loss: 0.0904 - accuracy: 0.9675 - val_loss: 1.6801 - val_accuracy: 0.7620 - 250ms/epoch - 2ms/step\n",
      "Epoch 225/300\n",
      "122/122 - 0s - loss: 0.0923 - accuracy: 0.9667 - val_loss: 1.6910 - val_accuracy: 0.7625 - 250ms/epoch - 2ms/step\n",
      "Epoch 226/300\n",
      "122/122 - 0s - loss: 0.0914 - accuracy: 0.9657 - val_loss: 1.6630 - val_accuracy: 0.7609 - 253ms/epoch - 2ms/step\n",
      "Epoch 227/300\n",
      "122/122 - 0s - loss: 0.0900 - accuracy: 0.9666 - val_loss: 1.7692 - val_accuracy: 0.7506 - 250ms/epoch - 2ms/step\n",
      "Epoch 228/300\n",
      "122/122 - 0s - loss: 0.0897 - accuracy: 0.9664 - val_loss: 1.6979 - val_accuracy: 0.7578 - 251ms/epoch - 2ms/step\n",
      "Epoch 229/300\n",
      "122/122 - 0s - loss: 0.0874 - accuracy: 0.9697 - val_loss: 1.6797 - val_accuracy: 0.7604 - 253ms/epoch - 2ms/step\n",
      "Epoch 230/300\n",
      "122/122 - 0s - loss: 0.0876 - accuracy: 0.9682 - val_loss: 1.7464 - val_accuracy: 0.7558 - 250ms/epoch - 2ms/step\n",
      "Epoch 231/300\n",
      "122/122 - 0s - loss: 0.0909 - accuracy: 0.9673 - val_loss: 1.7068 - val_accuracy: 0.7584 - 252ms/epoch - 2ms/step\n",
      "Epoch 232/300\n",
      "122/122 - 0s - loss: 0.0984 - accuracy: 0.9644 - val_loss: 1.6697 - val_accuracy: 0.7568 - 251ms/epoch - 2ms/step\n",
      "Epoch 233/300\n",
      "122/122 - 0s - loss: 0.0931 - accuracy: 0.9649 - val_loss: 1.7562 - val_accuracy: 0.7573 - 251ms/epoch - 2ms/step\n",
      "Epoch 234/300\n",
      "122/122 - 0s - loss: 0.1051 - accuracy: 0.9604 - val_loss: 1.7169 - val_accuracy: 0.7578 - 297ms/epoch - 2ms/step\n",
      "Epoch 235/300\n",
      "122/122 - 0s - loss: 0.0936 - accuracy: 0.9644 - val_loss: 1.7563 - val_accuracy: 0.7522 - 281ms/epoch - 2ms/step\n",
      "Epoch 236/300\n",
      "122/122 - 0s - loss: 0.0904 - accuracy: 0.9682 - val_loss: 1.7226 - val_accuracy: 0.7594 - 255ms/epoch - 2ms/step\n",
      "Epoch 237/300\n",
      "122/122 - 0s - loss: 0.0863 - accuracy: 0.9690 - val_loss: 1.7226 - val_accuracy: 0.7563 - 287ms/epoch - 2ms/step\n",
      "Epoch 238/300\n",
      "122/122 - 0s - loss: 0.0921 - accuracy: 0.9664 - val_loss: 1.7162 - val_accuracy: 0.7650 - 254ms/epoch - 2ms/step\n",
      "Epoch 239/300\n",
      "122/122 - 0s - loss: 0.0889 - accuracy: 0.9662 - val_loss: 1.6740 - val_accuracy: 0.7558 - 261ms/epoch - 2ms/step\n",
      "Epoch 240/300\n",
      "122/122 - 0s - loss: 0.0945 - accuracy: 0.9664 - val_loss: 1.7441 - val_accuracy: 0.7553 - 275ms/epoch - 2ms/step\n",
      "Epoch 241/300\n",
      "122/122 - 0s - loss: 0.0900 - accuracy: 0.9673 - val_loss: 1.7517 - val_accuracy: 0.7522 - 249ms/epoch - 2ms/step\n",
      "Epoch 242/300\n",
      "122/122 - 0s - loss: 0.0908 - accuracy: 0.9676 - val_loss: 1.6921 - val_accuracy: 0.7614 - 272ms/epoch - 2ms/step\n",
      "Epoch 243/300\n",
      "122/122 - 0s - loss: 0.0871 - accuracy: 0.9672 - val_loss: 1.7434 - val_accuracy: 0.7542 - 264ms/epoch - 2ms/step\n",
      "Epoch 244/300\n",
      "122/122 - 0s - loss: 0.0890 - accuracy: 0.9664 - val_loss: 1.7609 - val_accuracy: 0.7584 - 250ms/epoch - 2ms/step\n",
      "Epoch 245/300\n",
      "122/122 - 0s - loss: 0.0922 - accuracy: 0.9662 - val_loss: 1.7066 - val_accuracy: 0.7645 - 250ms/epoch - 2ms/step\n",
      "Epoch 246/300\n",
      "122/122 - 0s - loss: 0.0895 - accuracy: 0.9688 - val_loss: 1.7530 - val_accuracy: 0.7594 - 301ms/epoch - 2ms/step\n",
      "Epoch 247/300\n",
      "122/122 - 0s - loss: 0.0865 - accuracy: 0.9689 - val_loss: 1.6899 - val_accuracy: 0.7589 - 312ms/epoch - 3ms/step\n",
      "Epoch 248/300\n",
      "122/122 - 0s - loss: 0.0913 - accuracy: 0.9667 - val_loss: 1.7194 - val_accuracy: 0.7640 - 288ms/epoch - 2ms/step\n",
      "Epoch 249/300\n",
      "122/122 - 0s - loss: 0.0875 - accuracy: 0.9685 - val_loss: 1.7312 - val_accuracy: 0.7620 - 264ms/epoch - 2ms/step\n",
      "Epoch 250/300\n",
      "122/122 - 0s - loss: 0.0867 - accuracy: 0.9695 - val_loss: 1.7425 - val_accuracy: 0.7609 - 277ms/epoch - 2ms/step\n",
      "Epoch 251/300\n",
      "122/122 - 0s - loss: 0.0963 - accuracy: 0.9648 - val_loss: 1.7480 - val_accuracy: 0.7625 - 254ms/epoch - 2ms/step\n",
      "Epoch 252/300\n",
      "122/122 - 0s - loss: 0.0897 - accuracy: 0.9673 - val_loss: 1.7365 - val_accuracy: 0.7584 - 281ms/epoch - 2ms/step\n",
      "Epoch 253/300\n",
      "122/122 - 0s - loss: 0.0882 - accuracy: 0.9681 - val_loss: 1.7139 - val_accuracy: 0.7625 - 250ms/epoch - 2ms/step\n",
      "Epoch 254/300\n",
      "122/122 - 0s - loss: 0.0927 - accuracy: 0.9659 - val_loss: 1.6547 - val_accuracy: 0.7640 - 252ms/epoch - 2ms/step\n",
      "Epoch 255/300\n",
      "122/122 - 0s - loss: 0.0970 - accuracy: 0.9643 - val_loss: 1.6852 - val_accuracy: 0.7676 - 250ms/epoch - 2ms/step\n",
      "Epoch 256/300\n",
      "122/122 - 0s - loss: 0.0982 - accuracy: 0.9648 - val_loss: 1.6962 - val_accuracy: 0.7578 - 254ms/epoch - 2ms/step\n",
      "Epoch 257/300\n",
      "122/122 - 0s - loss: 0.1077 - accuracy: 0.9600 - val_loss: 1.7357 - val_accuracy: 0.7594 - 254ms/epoch - 2ms/step\n",
      "Epoch 258/300\n",
      "122/122 - 0s - loss: 0.0887 - accuracy: 0.9673 - val_loss: 1.7119 - val_accuracy: 0.7589 - 251ms/epoch - 2ms/step\n",
      "Epoch 259/300\n",
      "122/122 - 0s - loss: 0.0880 - accuracy: 0.9682 - val_loss: 1.7138 - val_accuracy: 0.7599 - 252ms/epoch - 2ms/step\n"
     ]
    },
    {
     "name": "stdout",
     "output_type": "stream",
     "text": [
      "Epoch 260/300\n",
      "122/122 - 0s - loss: 0.0859 - accuracy: 0.9693 - val_loss: 1.7616 - val_accuracy: 0.7548 - 251ms/epoch - 2ms/step\n",
      "Epoch 261/300\n",
      "122/122 - 0s - loss: 0.0878 - accuracy: 0.9695 - val_loss: 1.7124 - val_accuracy: 0.7625 - 252ms/epoch - 2ms/step\n",
      "Epoch 262/300\n",
      "122/122 - 0s - loss: 0.0879 - accuracy: 0.9666 - val_loss: 1.6822 - val_accuracy: 0.7553 - 251ms/epoch - 2ms/step\n",
      "Epoch 263/300\n",
      "122/122 - 0s - loss: 0.0901 - accuracy: 0.9671 - val_loss: 1.7500 - val_accuracy: 0.7604 - 250ms/epoch - 2ms/step\n",
      "Epoch 264/300\n",
      "122/122 - 0s - loss: 0.0879 - accuracy: 0.9676 - val_loss: 1.6936 - val_accuracy: 0.7620 - 250ms/epoch - 2ms/step\n",
      "Epoch 265/300\n",
      "122/122 - 0s - loss: 0.0883 - accuracy: 0.9675 - val_loss: 1.7300 - val_accuracy: 0.7609 - 251ms/epoch - 2ms/step\n",
      "Epoch 266/300\n",
      "122/122 - 0s - loss: 0.0886 - accuracy: 0.9689 - val_loss: 1.7216 - val_accuracy: 0.7609 - 262ms/epoch - 2ms/step\n",
      "Epoch 267/300\n",
      "122/122 - 0s - loss: 0.0971 - accuracy: 0.9643 - val_loss: 1.7988 - val_accuracy: 0.7594 - 265ms/epoch - 2ms/step\n",
      "Epoch 268/300\n",
      "122/122 - 0s - loss: 0.0946 - accuracy: 0.9655 - val_loss: 1.7356 - val_accuracy: 0.7589 - 250ms/epoch - 2ms/step\n",
      "Epoch 269/300\n",
      "122/122 - 0s - loss: 0.0888 - accuracy: 0.9666 - val_loss: 1.6895 - val_accuracy: 0.7620 - 251ms/epoch - 2ms/step\n",
      "Epoch 270/300\n",
      "122/122 - 0s - loss: 0.0881 - accuracy: 0.9672 - val_loss: 1.7925 - val_accuracy: 0.7578 - 254ms/epoch - 2ms/step\n",
      "Epoch 271/300\n",
      "122/122 - 0s - loss: 0.0884 - accuracy: 0.9682 - val_loss: 1.7158 - val_accuracy: 0.7630 - 249ms/epoch - 2ms/step\n",
      "Epoch 272/300\n",
      "122/122 - 0s - loss: 0.0872 - accuracy: 0.9686 - val_loss: 1.7423 - val_accuracy: 0.7614 - 263ms/epoch - 2ms/step\n",
      "Epoch 273/300\n",
      "122/122 - 0s - loss: 0.0981 - accuracy: 0.9635 - val_loss: 1.7612 - val_accuracy: 0.7496 - 250ms/epoch - 2ms/step\n",
      "Epoch 274/300\n",
      "122/122 - 0s - loss: 0.0953 - accuracy: 0.9653 - val_loss: 1.7556 - val_accuracy: 0.7640 - 249ms/epoch - 2ms/step\n",
      "Epoch 275/300\n",
      "122/122 - 0s - loss: 0.0867 - accuracy: 0.9671 - val_loss: 1.7322 - val_accuracy: 0.7630 - 251ms/epoch - 2ms/step\n",
      "Epoch 276/300\n",
      "122/122 - 0s - loss: 0.0986 - accuracy: 0.9632 - val_loss: 1.7712 - val_accuracy: 0.7640 - 252ms/epoch - 2ms/step\n",
      "Epoch 277/300\n",
      "122/122 - 0s - loss: 0.0913 - accuracy: 0.9664 - val_loss: 1.7182 - val_accuracy: 0.7578 - 253ms/epoch - 2ms/step\n",
      "Epoch 278/300\n",
      "122/122 - 0s - loss: 0.0909 - accuracy: 0.9658 - val_loss: 1.7714 - val_accuracy: 0.7563 - 251ms/epoch - 2ms/step\n",
      "Epoch 279/300\n",
      "122/122 - 0s - loss: 0.0924 - accuracy: 0.9667 - val_loss: 1.7605 - val_accuracy: 0.7630 - 250ms/epoch - 2ms/step\n",
      "Epoch 280/300\n",
      "122/122 - 0s - loss: 0.0839 - accuracy: 0.9702 - val_loss: 1.7637 - val_accuracy: 0.7558 - 249ms/epoch - 2ms/step\n",
      "Epoch 281/300\n",
      "122/122 - 0s - loss: 0.0865 - accuracy: 0.9688 - val_loss: 1.8106 - val_accuracy: 0.7573 - 251ms/epoch - 2ms/step\n",
      "Epoch 282/300\n",
      "122/122 - 0s - loss: 0.0869 - accuracy: 0.9681 - val_loss: 1.7797 - val_accuracy: 0.7589 - 249ms/epoch - 2ms/step\n",
      "Epoch 283/300\n",
      "122/122 - 0s - loss: 0.0841 - accuracy: 0.9699 - val_loss: 1.7261 - val_accuracy: 0.7630 - 250ms/epoch - 2ms/step\n",
      "Epoch 284/300\n",
      "122/122 - 0s - loss: 0.1013 - accuracy: 0.9612 - val_loss: 1.8234 - val_accuracy: 0.7496 - 259ms/epoch - 2ms/step\n",
      "Epoch 285/300\n",
      "122/122 - 0s - loss: 0.1032 - accuracy: 0.9636 - val_loss: 1.7262 - val_accuracy: 0.7532 - 252ms/epoch - 2ms/step\n",
      "Epoch 286/300\n",
      "122/122 - 0s - loss: 0.0886 - accuracy: 0.9682 - val_loss: 1.8379 - val_accuracy: 0.7573 - 250ms/epoch - 2ms/step\n",
      "Epoch 287/300\n",
      "122/122 - 0s - loss: 0.0948 - accuracy: 0.9653 - val_loss: 1.7149 - val_accuracy: 0.7563 - 256ms/epoch - 2ms/step\n",
      "Epoch 288/300\n",
      "122/122 - 0s - loss: 0.0864 - accuracy: 0.9697 - val_loss: 1.7560 - val_accuracy: 0.7614 - 250ms/epoch - 2ms/step\n",
      "Epoch 289/300\n",
      "122/122 - 0s - loss: 0.0840 - accuracy: 0.9697 - val_loss: 1.8006 - val_accuracy: 0.7589 - 251ms/epoch - 2ms/step\n",
      "Epoch 290/300\n",
      "122/122 - 0s - loss: 0.0892 - accuracy: 0.9663 - val_loss: 1.8243 - val_accuracy: 0.7532 - 258ms/epoch - 2ms/step\n",
      "Epoch 291/300\n",
      "122/122 - 0s - loss: 0.0903 - accuracy: 0.9662 - val_loss: 1.7405 - val_accuracy: 0.7578 - 250ms/epoch - 2ms/step\n",
      "Epoch 292/300\n",
      "122/122 - 0s - loss: 0.0976 - accuracy: 0.9632 - val_loss: 1.7516 - val_accuracy: 0.7584 - 251ms/epoch - 2ms/step\n",
      "Epoch 293/300\n",
      "122/122 - 0s - loss: 0.0857 - accuracy: 0.9688 - val_loss: 1.7656 - val_accuracy: 0.7614 - 251ms/epoch - 2ms/step\n",
      "Epoch 294/300\n",
      "122/122 - 0s - loss: 0.0821 - accuracy: 0.9707 - val_loss: 1.8032 - val_accuracy: 0.7548 - 252ms/epoch - 2ms/step\n",
      "Epoch 295/300\n",
      "122/122 - 0s - loss: 0.0863 - accuracy: 0.9691 - val_loss: 1.7401 - val_accuracy: 0.7625 - 250ms/epoch - 2ms/step\n",
      "Epoch 296/300\n",
      "122/122 - 0s - loss: 0.0837 - accuracy: 0.9697 - val_loss: 1.7094 - val_accuracy: 0.7671 - 251ms/epoch - 2ms/step\n",
      "Epoch 297/300\n",
      "122/122 - 0s - loss: 0.0877 - accuracy: 0.9690 - val_loss: 1.7890 - val_accuracy: 0.7568 - 257ms/epoch - 2ms/step\n",
      "Epoch 298/300\n",
      "122/122 - 0s - loss: 0.0991 - accuracy: 0.9622 - val_loss: 1.7885 - val_accuracy: 0.7558 - 250ms/epoch - 2ms/step\n",
      "Epoch 299/300\n",
      "122/122 - 0s - loss: 0.0854 - accuracy: 0.9694 - val_loss: 1.7207 - val_accuracy: 0.7625 - 251ms/epoch - 2ms/step\n",
      "Epoch 300/300\n",
      "122/122 - 0s - loss: 0.0968 - accuracy: 0.9644 - val_loss: 1.7920 - val_accuracy: 0.7614 - 257ms/epoch - 2ms/step\n"
     ]
    },
    {
     "data": {
      "text/plain": [
       "<keras.callbacks.History at 0x1fa78a56950>"
      ]
     },
     "execution_count": 41,
     "metadata": {},
     "output_type": "execute_result"
    }
   ],
   "source": [
    "# model.fit(X_train_res, y_train_res, batch_size=64, epochs=300, validation_data=(X_test, y_test), verbose=2)"
   ]
  },
  {
   "cell_type": "code",
   "execution_count": 42,
   "metadata": {},
   "outputs": [
    {
     "name": "stdout",
     "output_type": "stream",
     "text": [
      "INFO:tensorflow:Assets written to: test_model.md5\\assets\n"
     ]
    }
   ],
   "source": [
    "# model.save('test_model.md5')"
   ]
  },
  {
   "cell_type": "code",
   "execution_count": 43,
   "metadata": {},
   "outputs": [],
   "source": [
    "model = load_model('test_model.md5')"
   ]
  },
  {
   "cell_type": "code",
   "execution_count": 40,
   "metadata": {},
   "outputs": [
    {
     "name": "stdout",
     "output_type": "stream",
     "text": [
      "61/61 [==============================] - 0s 1ms/step\n",
      "              precision    recall  f1-score   support\n",
      "\n",
      "           0       0.73      0.86      0.79       973\n",
      "           1       0.83      0.68      0.75       972\n",
      "\n",
      "    accuracy                           0.77      1945\n",
      "   macro avg       0.78      0.77      0.77      1945\n",
      "weighted avg       0.78      0.77      0.77      1945\n",
      "\n"
     ]
    },
    {
     "data": {
      "text/plain": [
       "<Axes: >"
      ]
     },
     "execution_count": 40,
     "metadata": {},
     "output_type": "execute_result"
    },
    {
     "data": {
      "image/png": "[encoded data removed]",
      "text/plain": [
       "<Figure size 640x480 with 2 Axes>"
      ]
     },
     "metadata": {},
     "output_type": "display_data"
    }
   ],
   "source": [
    "y_pred = model.predict(X_test)\n",
    "\n",
    "y_pred = y_pred > 0.5\n",
    "\n",
    "print(classification_report(y_test, y_pred))\n",
    "\n",
    "cm = confusion_matrix(y_test, y_pred)\n",
    "sns.heatmap(cm, annot=True, fmt='g', cmap='Blues', \n",
    "            xticklabels=['No stroke', 'Stroke'], yticklabels=['No stroke', 'Stroke'])"
   ]
  },
  {
   "cell_type": "markdown",
   "metadata": {},
   "source": [
    "## Classifiers\n",
    "\n",
    "1. KNN\n",
    "2. SVM\n",
    "3. DecissionTree\n",
    "4. XGB\n",
    "5. CatBoost\n",
    "6. AdaBoost\n"
   ]
  },
  {
   "cell_type": "code",
   "execution_count": null,
   "metadata": {},
   "outputs": [],
   "source": []
  }
 ],
 "metadata": {
  "kernelspec": {
   "display_name": "Python 3 (ipykernel)",
   "language": "python",
   "name": "python3"
  },
  "language_info": {
   "codemirror_mode": {
    "name": "ipython",
    "version": 3
   },
   "file_extension": ".py",
   "mimetype": "text/x-python",
   "name": "python",
   "nbconvert_exporter": "python",
   "pygments_lexer": "ipython3",
   "version": "3.10.9"
  }
 },
 "nbformat": 4,
 "nbformat_minor": 1
}
